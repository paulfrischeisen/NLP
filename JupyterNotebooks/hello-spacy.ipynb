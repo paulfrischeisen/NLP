{
 "cells": [
  {
   "cell_type": "markdown",
   "id": "tribal-bunny",
   "metadata": {},
   "source": [
    "# Hello spaCy\n",
    "Mit diesem notebook testen wir die spaCy-Installation\n",
    "Vorher (am besten in der Konsole) die folgenden Befehle einmalig durchführen:\n",
    "\n",
    "    ==> python3 -m pip install -U pip\n",
    "    ==> python3 -m pip install -U setuptools\n",
    "    ==> pip install spacy\n",
    "    ==> python3 -m spacy download de_core_news_sm\n",
    "    ==> python3 -m spacy download de_core_news_lg"
   ]
  },
  {
   "cell_type": "markdown",
   "source": [],
   "metadata": {
    "collapsed": false
   },
   "id": "f750a04bc68b31a2"
  },
  {
   "cell_type": "code",
   "execution_count": 1,
   "id": "23195692-baaa-4412-a945-3d08b641fb0b",
   "metadata": {
    "ExecuteTime": {
     "end_time": "2025-03-21T08:10:32.864937300Z",
     "start_time": "2025-03-21T08:10:32.764776900Z"
    }
   },
   "outputs": [
    {
     "data": {
      "text/html": "<img src=\"https://spacy.io/images/pipeline.svg\" width=\"1000\"/>",
      "text/plain": "<IPython.core.display.Image object>"
     },
     "execution_count": 1,
     "metadata": {},
     "output_type": "execute_result"
    }
   ],
   "source": [
    "from IPython.display import Image\n",
    "Image(url=\"https://spacy.io/images/pipeline.svg\", width=1000) "
   ]
  },
  {
   "cell_type": "markdown",
   "id": "recovered-bradley",
   "metadata": {},
   "source": [
    "Schritt 1: Import von spaCy"
   ]
  },
  {
   "cell_type": "code",
   "execution_count": 2,
   "id": "sharp-translation",
   "metadata": {
    "ExecuteTime": {
     "end_time": "2025-03-21T08:10:49.265692200Z",
     "start_time": "2025-03-21T08:10:47.942970Z"
    }
   },
   "outputs": [],
   "source": [
    "import spacy\n",
    "import json"
   ]
  },
  {
   "cell_type": "markdown",
   "id": "anticipated-excuse",
   "metadata": {},
   "source": [
    "Schritt 2: Laden des deutschen Sprachmodells und der Pipeline"
   ]
  },
  {
   "cell_type": "code",
   "execution_count": 6,
   "id": "colonial-monte",
   "metadata": {
    "ExecuteTime": {
     "end_time": "2025-03-21T10:03:13.870137600Z",
     "start_time": "2025-03-21T10:03:12.809661Z"
    }
   },
   "outputs": [],
   "source": [
    "#nlp = spacy.load(\"de_core_news_sm\")\n",
    "#nlp = spacy.load(\"de_core_news_lg\")\n",
    "nlp = spacy.load('de_core_news_sm')"
   ]
  },
  {
   "cell_type": "markdown",
   "id": "damaged-shell",
   "metadata": {},
   "source": [
    "Schritt 3: Eine Stringvariable mit einem deutschen Text (mindestens ein Satz) setzen"
   ]
  },
  {
   "cell_type": "code",
   "execution_count": 7,
   "id": "vulnerable-divide",
   "metadata": {
    "ExecuteTime": {
     "end_time": "2025-03-21T10:03:20.199501800Z",
     "start_time": "2025-03-21T10:03:20.198993100Z"
    }
   },
   "outputs": [],
   "source": [
    "text=\"Ich wünsche Ihnen einen guten Morgen!\""
   ]
  },
  {
   "cell_type": "markdown",
   "id": "moving-spirituality",
   "metadata": {},
   "source": [
    "Schritt 4: Den Text verarbeiten"
   ]
  },
  {
   "cell_type": "code",
   "execution_count": 8,
   "id": "defensive-retailer",
   "metadata": {
    "ExecuteTime": {
     "end_time": "2025-03-21T10:03:28.837966900Z",
     "start_time": "2025-03-21T10:03:28.779229400Z"
    }
   },
   "outputs": [],
   "source": [
    "doc = nlp(text)"
   ]
  },
  {
   "cell_type": "code",
   "execution_count": 9,
   "id": "98e98600-2f61-4867-99f8-393315d859fb",
   "metadata": {
    "ExecuteTime": {
     "end_time": "2025-03-21T10:03:30.982172100Z",
     "start_time": "2025-03-21T10:03:30.974043500Z"
    }
   },
   "outputs": [
    {
     "name": "stdout",
     "output_type": "stream",
     "text": [
      "Ich wünsche Ihnen einen guten Morgen!\n"
     ]
    }
   ],
   "source": [
    "print(doc)"
   ]
  },
  {
   "cell_type": "code",
   "execution_count": 10,
   "id": "9500e13d-69a3-4bbc-851f-30cbb50f0bca",
   "metadata": {
    "ExecuteTime": {
     "end_time": "2025-03-21T10:03:35.071816400Z",
     "start_time": "2025-03-21T10:03:35.053831500Z"
    }
   },
   "outputs": [
    {
     "name": "stdout",
     "output_type": "stream",
     "text": [
      "{'text': 'Ich wünsche Ihnen einen guten Morgen!', 'ents': [], 'sents': [{'start': 0, 'end': 37}], 'tokens': [{'id': 0, 'start': 0, 'end': 3, 'tag': 'PPER', 'pos': 'PRON', 'morph': 'Case=Nom|Number=Sing|Person=1|PronType=Prs', 'lemma': 'ich', 'dep': 'sb', 'head': 1}, {'id': 1, 'start': 4, 'end': 11, 'tag': 'VVFIN', 'pos': 'VERB', 'morph': 'Mood=Ind|Number=Sing|Person=1|Tense=Pres|VerbForm=Fin', 'lemma': 'wünschen', 'dep': 'ROOT', 'head': 1}, {'id': 2, 'start': 12, 'end': 17, 'tag': 'PPER', 'pos': 'PRON', 'morph': 'Case=Dat|Number=Plur|Person=3|PronType=Prs', 'lemma': 'ihnen', 'dep': 'da', 'head': 1}, {'id': 3, 'start': 18, 'end': 23, 'tag': 'ART', 'pos': 'DET', 'morph': 'Case=Acc|Definite=Ind|Gender=Masc|Number=Sing|PronType=Art', 'lemma': 'ein', 'dep': 'nk', 'head': 5}, {'id': 4, 'start': 24, 'end': 29, 'tag': 'ADJA', 'pos': 'ADJ', 'morph': 'Case=Acc|Degree=Pos|Gender=Masc|Number=Sing', 'lemma': 'gut', 'dep': 'nk', 'head': 5}, {'id': 5, 'start': 30, 'end': 36, 'tag': 'NN', 'pos': 'NOUN', 'morph': 'Case=Acc|Gender=Masc|Number=Sing', 'lemma': 'Morgen', 'dep': 'oa', 'head': 1}, {'id': 6, 'start': 36, 'end': 37, 'tag': '$.', 'pos': 'PUNCT', 'morph': '', 'lemma': '--', 'dep': 'punct', 'head': 1}]}\n"
     ]
    }
   ],
   "source": [
    "print(doc.to_json())"
   ]
  },
  {
   "cell_type": "code",
   "execution_count": 11,
   "id": "74ba65a6-c400-4548-9c2f-f7286769b521",
   "metadata": {
    "ExecuteTime": {
     "end_time": "2025-03-21T10:03:39.095772600Z",
     "start_time": "2025-03-21T10:03:39.078873200Z"
    }
   },
   "outputs": [
    {
     "name": "stdout",
     "output_type": "stream",
     "text": [
      "{\n",
      "  \"text\": \"Ich w\\u00fcnsche Ihnen einen guten Morgen!\",\n",
      "  \"ents\": [],\n",
      "  \"sents\": [\n",
      "    {\n",
      "      \"start\": 0,\n",
      "      \"end\": 37\n",
      "    }\n",
      "  ],\n",
      "  \"tokens\": [\n",
      "    {\n",
      "      \"id\": 0,\n",
      "      \"start\": 0,\n",
      "      \"end\": 3,\n",
      "      \"tag\": \"PPER\",\n",
      "      \"pos\": \"PRON\",\n",
      "      \"morph\": \"Case=Nom|Number=Sing|Person=1|PronType=Prs\",\n",
      "      \"lemma\": \"ich\",\n",
      "      \"dep\": \"sb\",\n",
      "      \"head\": 1\n",
      "    },\n",
      "    {\n",
      "      \"id\": 1,\n",
      "      \"start\": 4,\n",
      "      \"end\": 11,\n",
      "      \"tag\": \"VVFIN\",\n",
      "      \"pos\": \"VERB\",\n",
      "      \"morph\": \"Mood=Ind|Number=Sing|Person=1|Tense=Pres|VerbForm=Fin\",\n",
      "      \"lemma\": \"w\\u00fcnschen\",\n",
      "      \"dep\": \"ROOT\",\n",
      "      \"head\": 1\n",
      "    },\n",
      "    {\n",
      "      \"id\": 2,\n",
      "      \"start\": 12,\n",
      "      \"end\": 17,\n",
      "      \"tag\": \"PPER\",\n",
      "      \"pos\": \"PRON\",\n",
      "      \"morph\": \"Case=Dat|Number=Plur|Person=3|PronType=Prs\",\n",
      "      \"lemma\": \"ihnen\",\n",
      "      \"dep\": \"da\",\n",
      "      \"head\": 1\n",
      "    },\n",
      "    {\n",
      "      \"id\": 3,\n",
      "      \"start\": 18,\n",
      "      \"end\": 23,\n",
      "      \"tag\": \"ART\",\n",
      "      \"pos\": \"DET\",\n",
      "      \"morph\": \"Case=Acc|Definite=Ind|Gender=Masc|Number=Sing|PronType=Art\",\n",
      "      \"lemma\": \"ein\",\n",
      "      \"dep\": \"nk\",\n",
      "      \"head\": 5\n",
      "    },\n",
      "    {\n",
      "      \"id\": 4,\n",
      "      \"start\": 24,\n",
      "      \"end\": 29,\n",
      "      \"tag\": \"ADJA\",\n",
      "      \"pos\": \"ADJ\",\n",
      "      \"morph\": \"Case=Acc|Degree=Pos|Gender=Masc|Number=Sing\",\n",
      "      \"lemma\": \"gut\",\n",
      "      \"dep\": \"nk\",\n",
      "      \"head\": 5\n",
      "    },\n",
      "    {\n",
      "      \"id\": 5,\n",
      "      \"start\": 30,\n",
      "      \"end\": 36,\n",
      "      \"tag\": \"NN\",\n",
      "      \"pos\": \"NOUN\",\n",
      "      \"morph\": \"Case=Acc|Gender=Masc|Number=Sing\",\n",
      "      \"lemma\": \"Morgen\",\n",
      "      \"dep\": \"oa\",\n",
      "      \"head\": 1\n",
      "    },\n",
      "    {\n",
      "      \"id\": 6,\n",
      "      \"start\": 36,\n",
      "      \"end\": 37,\n",
      "      \"tag\": \"$.\",\n",
      "      \"pos\": \"PUNCT\",\n",
      "      \"morph\": \"\",\n",
      "      \"lemma\": \"--\",\n",
      "      \"dep\": \"punct\",\n",
      "      \"head\": 1\n",
      "    }\n",
      "  ]\n",
      "}\n"
     ]
    }
   ],
   "source": [
    "print(json.dumps(doc.to_json(),indent=2))"
   ]
  },
  {
   "cell_type": "markdown",
   "id": "english-optimum",
   "metadata": {},
   "source": [
    "Schritt 5: Im einfachsten Fall den zerlegten Text ausgeben"
   ]
  },
  {
   "cell_type": "code",
   "execution_count": 12,
   "id": "nearby-aging",
   "metadata": {
    "ExecuteTime": {
     "end_time": "2025-03-21T10:04:25.004867700Z",
     "start_time": "2025-03-21T10:04:24.993266600Z"
    }
   },
   "outputs": [
    {
     "name": "stdout",
     "output_type": "stream",
     "text": [
      "Ich\n",
      "wünsche\n",
      "Ihnen\n",
      "einen\n",
      "guten\n",
      "Morgen\n",
      "!\n"
     ]
    }
   ],
   "source": [
    "for t in doc:\n",
    "    print(t)"
   ]
  },
  {
   "cell_type": "markdown",
   "id": "6da22a6e-9177-4e1e-80d9-2ed80047db86",
   "metadata": {},
   "source": [
    "Drücken Sie nach dem . in der folgenden Zelle die Tab-Taste und untersuchen Sie die vielen Eigenschaften"
   ]
  },
  {
   "cell_type": "code",
   "execution_count": 14,
   "id": "e40f3e99-481f-48ba-915f-4f422af6985c",
   "metadata": {
    "ExecuteTime": {
     "end_time": "2025-03-21T10:04:41.746724100Z",
     "start_time": "2025-03-21T10:04:41.738835400Z"
    }
   },
   "outputs": [
    {
     "data": {
      "text/plain": "'sb'"
     },
     "execution_count": 14,
     "metadata": {},
     "output_type": "execute_result"
    }
   ],
   "source": [
    "t = doc[0]\n",
    "t.dep_  # Hier!\n"
   ]
  },
  {
   "cell_type": "code",
   "execution_count": 15,
   "id": "20cb1473-34f9-4e43-af74-55e9ca5ac126",
   "metadata": {
    "ExecuteTime": {
     "end_time": "2025-03-21T10:04:56.898161Z",
     "start_time": "2025-03-21T10:04:56.882026500Z"
    }
   },
   "outputs": [
    {
     "data": {
      "text/plain": "<generator at 0x259683e97e0>"
     },
     "execution_count": 15,
     "metadata": {},
     "output_type": "execute_result"
    }
   ],
   "source": [
    "t.children"
   ]
  },
  {
   "cell_type": "code",
   "execution_count": 16,
   "outputs": [
    {
     "ename": "TypeError",
     "evalue": "'spacy.tokens.token.Token' object is not subscriptable",
     "output_type": "error",
     "traceback": [
      "\u001B[31m---------------------------------------------------------------------------\u001B[39m",
      "\u001B[31mTypeError\u001B[39m                                 Traceback (most recent call last)",
      "\u001B[36mCell\u001B[39m\u001B[36m \u001B[39m\u001B[32mIn[16]\u001B[39m\u001B[32m, line 1\u001B[39m\n\u001B[32m----> \u001B[39m\u001B[32m1\u001B[39m \u001B[43mt\u001B[49m\u001B[43m[\u001B[49m\u001B[32;43m1\u001B[39;49m\u001B[43m]\u001B[49m\n",
      "\u001B[31mTypeError\u001B[39m: 'spacy.tokens.token.Token' object is not subscriptable"
     ]
    }
   ],
   "source": [],
   "metadata": {
    "collapsed": false,
    "ExecuteTime": {
     "end_time": "2025-03-21T10:05:07.301470500Z",
     "start_time": "2025-03-21T10:05:07.257202700Z"
    }
   },
   "id": "bf1dea3d46216186"
  },
  {
   "cell_type": "code",
   "execution_count": 22,
   "outputs": [
    {
     "name": "stdout",
     "output_type": "stream",
     "text": [
      "Ich\n",
      "False\n"
     ]
    }
   ],
   "source": [
    "t = doc[0]\n",
    "print(t)\n",
    "print(t.is_upper)"
   ],
   "metadata": {
    "collapsed": false,
    "ExecuteTime": {
     "end_time": "2025-03-21T10:06:38.086710300Z",
     "start_time": "2025-03-21T10:06:38.080703500Z"
    }
   },
   "id": "421f8436f002e3ad"
  },
  {
   "cell_type": "code",
   "execution_count": null,
   "outputs": [],
   "source": [],
   "metadata": {
    "collapsed": false
   },
   "id": "9d0e310eb902cb53"
  }
 ],
 "metadata": {
  "kernelspec": {
   "display_name": "Python 3 (ipykernel)",
   "language": "python",
   "name": "python3"
  },
  "language_info": {
   "codemirror_mode": {
    "name": "ipython",
    "version": 3
   },
   "file_extension": ".py",
   "mimetype": "text/x-python",
   "name": "python",
   "nbconvert_exporter": "python",
   "pygments_lexer": "ipython3",
   "version": "3.9.6"
  }
 },
 "nbformat": 4,
 "nbformat_minor": 5
}
