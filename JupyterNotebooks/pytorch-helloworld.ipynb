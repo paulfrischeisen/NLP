{
 "cells": [
  {
   "cell_type": "code",
   "execution_count": null,
   "id": "64b0882d-06d0-43dd-a533-3134257762cf",
   "metadata": {},
   "outputs": [],
   "source": []
  },
  {
   "cell_type": "code",
   "execution_count": 13,
   "id": "b94f9cac-e5ae-420b-b231-a47d70a74d87",
   "metadata": {
    "ExecuteTime": {
     "end_time": "2025-03-21T10:17:31.872785900Z",
     "start_time": "2025-03-21T10:17:31.846988Z"
    }
   },
   "outputs": [],
   "source": [
    "import torch"
   ]
  },
  {
   "cell_type": "code",
   "execution_count": 14,
   "id": "666f2dca-0dd4-4412-a1e5-82f8b0b1f950",
   "metadata": {
    "ExecuteTime": {
     "end_time": "2025-03-21T10:17:33.759834900Z",
     "start_time": "2025-03-21T10:17:33.732736800Z"
    }
   },
   "outputs": [
    {
     "name": "stdout",
     "output_type": "stream",
     "text": [
      "tensor([[0.2507, 0.1807, 0.7743],\n",
      "        [0.3494, 0.1575, 0.7510],\n",
      "        [0.6746, 0.1427, 0.7766],\n",
      "        [0.3299, 0.7976, 0.6165],\n",
      "        [0.1723, 0.2767, 0.2487]])\n"
     ]
    }
   ],
   "source": [
    "x = torch.rand(5, 3)\n",
    "print(x)"
   ]
  },
  {
   "cell_type": "markdown",
   "id": "a0cbbe8e-2bb2-4040-9217-090c53ba975e",
   "metadata": {},
   "source": [
    "https://pytorch.org/tutorials/beginner/basics/intro.html\n",
    "\n",
    "\n",
    "0. Quickstart\n",
    "1. Tensors\n",
    "2. Datasets and DataLoaders\n",
    "3. Transforms\n",
    "4. Build Model\n",
    "5. Automatic Differentiation\n",
    "6. Optimization Loop\n",
    "7. Save, Load and Use Model\n"
   ]
  },
  {
   "cell_type": "markdown",
   "id": "61af1b26-6140-4d8c-8319-2022154d0ba7",
   "metadata": {},
   "source": [
    "Nun etwas torchtext - leider abgekündigt!\n",
    "\n",
    "https://pytorch.org/text/stable/index.html: \n",
    "\"TorchText development is stopped and the 0.18 release (April 2024) will be the last stable release of the library.\""
   ]
  },
  {
   "cell_type": "code",
   "execution_count": 12,
   "id": "8351a14d-8107-45cb-acf1-74687a2fd8ae",
   "metadata": {
    "ExecuteTime": {
     "end_time": "2025-03-21T10:17:24.320396100Z",
     "start_time": "2025-03-21T10:17:24.185060800Z"
    }
   },
   "outputs": [
    {
     "ename": "OSError",
     "evalue": "[WinError 127] Die angegebene Prozedur wurde nicht gefunden",
     "output_type": "error",
     "traceback": [
      "\u001B[31m---------------------------------------------------------------------------\u001B[39m",
      "\u001B[31mOSError\u001B[39m                                   Traceback (most recent call last)",
      "\u001B[36mCell\u001B[39m\u001B[36m \u001B[39m\u001B[32mIn[12]\u001B[39m\u001B[32m, line 1\u001B[39m\n\u001B[32m----> \u001B[39m\u001B[32m1\u001B[39m \u001B[38;5;28;01mimport\u001B[39;00m\u001B[38;5;250m \u001B[39m\u001B[34;01mtorchtext\u001B[39;00m\n",
      "\u001B[36mFile \u001B[39m\u001B[32m~\\venv\\Lib\\site-packages\\torchtext\\__init__.py:18\u001B[39m\n\u001B[32m     15\u001B[39m     _WARN = \u001B[38;5;28;01mFalse\u001B[39;00m\n\u001B[32m     17\u001B[39m \u001B[38;5;66;03m# the following import has to happen first in order to load the torchtext C++ library\u001B[39;00m\n\u001B[32m---> \u001B[39m\u001B[32m18\u001B[39m \u001B[38;5;28;01mfrom\u001B[39;00m\u001B[38;5;250m \u001B[39m\u001B[34;01mtorchtext\u001B[39;00m\u001B[38;5;250m \u001B[39m\u001B[38;5;28;01mimport\u001B[39;00m _extension  \u001B[38;5;66;03m# noqa: F401\u001B[39;00m\n\u001B[32m     20\u001B[39m _TEXT_BUCKET = \u001B[33m\"\u001B[39m\u001B[33mhttps://download.pytorch.org/models/text/\u001B[39m\u001B[33m\"\u001B[39m\n\u001B[32m     22\u001B[39m _CACHE_DIR = os.path.expanduser(os.path.join(_get_torch_home(), \u001B[33m\"\u001B[39m\u001B[33mtext\u001B[39m\u001B[33m\"\u001B[39m))\n",
      "\u001B[36mFile \u001B[39m\u001B[32m~\\venv\\Lib\\site-packages\\torchtext\\_extension.py:64\u001B[39m\n\u001B[32m     59\u001B[39m     \u001B[38;5;66;03m# This import is for initializing the methods registered via PyBind11\u001B[39;00m\n\u001B[32m     60\u001B[39m     \u001B[38;5;66;03m# This has to happen after the base library is loaded\u001B[39;00m\n\u001B[32m     61\u001B[39m     \u001B[38;5;28;01mfrom\u001B[39;00m\u001B[38;5;250m \u001B[39m\u001B[34;01mtorchtext\u001B[39;00m\u001B[38;5;250m \u001B[39m\u001B[38;5;28;01mimport\u001B[39;00m _torchtext  \u001B[38;5;66;03m# noqa\u001B[39;00m\n\u001B[32m---> \u001B[39m\u001B[32m64\u001B[39m \u001B[43m_init_extension\u001B[49m\u001B[43m(\u001B[49m\u001B[43m)\u001B[49m\n",
      "\u001B[36mFile \u001B[39m\u001B[32m~\\venv\\Lib\\site-packages\\torchtext\\_extension.py:58\u001B[39m, in \u001B[36m_init_extension\u001B[39m\u001B[34m()\u001B[39m\n\u001B[32m     55\u001B[39m \u001B[38;5;28;01mif\u001B[39;00m \u001B[38;5;129;01mnot\u001B[39;00m _mod_utils.is_module_available(\u001B[33m\"\u001B[39m\u001B[33mtorchtext._torchtext\u001B[39m\u001B[33m\"\u001B[39m):\n\u001B[32m     56\u001B[39m     \u001B[38;5;28;01mraise\u001B[39;00m \u001B[38;5;167;01mImportError\u001B[39;00m(\u001B[33m\"\u001B[39m\u001B[33mtorchtext C++ Extension is not found.\u001B[39m\u001B[33m\"\u001B[39m)\n\u001B[32m---> \u001B[39m\u001B[32m58\u001B[39m \u001B[43m_load_lib\u001B[49m\u001B[43m(\u001B[49m\u001B[33;43m\"\u001B[39;49m\u001B[33;43mlibtorchtext\u001B[39;49m\u001B[33;43m\"\u001B[39;49m\u001B[43m)\u001B[49m\n\u001B[32m     59\u001B[39m \u001B[38;5;66;03m# This import is for initializing the methods registered via PyBind11\u001B[39;00m\n\u001B[32m     60\u001B[39m \u001B[38;5;66;03m# This has to happen after the base library is loaded\u001B[39;00m\n\u001B[32m     61\u001B[39m \u001B[38;5;28;01mfrom\u001B[39;00m\u001B[38;5;250m \u001B[39m\u001B[34;01mtorchtext\u001B[39;00m\u001B[38;5;250m \u001B[39m\u001B[38;5;28;01mimport\u001B[39;00m _torchtext\n",
      "\u001B[36mFile \u001B[39m\u001B[32m~\\venv\\Lib\\site-packages\\torchtext\\_extension.py:50\u001B[39m, in \u001B[36m_load_lib\u001B[39m\u001B[34m(lib)\u001B[39m\n\u001B[32m     48\u001B[39m \u001B[38;5;28;01mif\u001B[39;00m \u001B[38;5;129;01mnot\u001B[39;00m path.exists():\n\u001B[32m     49\u001B[39m     \u001B[38;5;28;01mreturn\u001B[39;00m \u001B[38;5;28;01mFalse\u001B[39;00m\n\u001B[32m---> \u001B[39m\u001B[32m50\u001B[39m \u001B[43mtorch\u001B[49m\u001B[43m.\u001B[49m\u001B[43mops\u001B[49m\u001B[43m.\u001B[49m\u001B[43mload_library\u001B[49m\u001B[43m(\u001B[49m\u001B[43mpath\u001B[49m\u001B[43m)\u001B[49m\n\u001B[32m     51\u001B[39m \u001B[38;5;28;01mreturn\u001B[39;00m \u001B[38;5;28;01mTrue\u001B[39;00m\n",
      "\u001B[36mFile \u001B[39m\u001B[32m~\\venv\\Lib\\site-packages\\torch\\_ops.py:1357\u001B[39m, in \u001B[36m_Ops.load_library\u001B[39m\u001B[34m(self, path)\u001B[39m\n\u001B[32m   1352\u001B[39m path = _utils_internal.resolve_library_path(path)\n\u001B[32m   1353\u001B[39m \u001B[38;5;28;01mwith\u001B[39;00m dl_open_guard():\n\u001B[32m   1354\u001B[39m     \u001B[38;5;66;03m# Import the shared library into the process, thus running its\u001B[39;00m\n\u001B[32m   1355\u001B[39m     \u001B[38;5;66;03m# static (global) initialization code in order to register custom\u001B[39;00m\n\u001B[32m   1356\u001B[39m     \u001B[38;5;66;03m# operators with the JIT.\u001B[39;00m\n\u001B[32m-> \u001B[39m\u001B[32m1357\u001B[39m     \u001B[43mctypes\u001B[49m\u001B[43m.\u001B[49m\u001B[43mCDLL\u001B[49m\u001B[43m(\u001B[49m\u001B[43mpath\u001B[49m\u001B[43m)\u001B[49m\n\u001B[32m   1358\u001B[39m \u001B[38;5;28mself\u001B[39m.loaded_libraries.add(path)\n",
      "\u001B[36mFile \u001B[39m\u001B[32m~\\AppData\\Local\\Programs\\Python\\Python311\\Lib\\ctypes\\__init__.py:376\u001B[39m, in \u001B[36mCDLL.__init__\u001B[39m\u001B[34m(self, name, mode, handle, use_errno, use_last_error, winmode)\u001B[39m\n\u001B[32m    373\u001B[39m \u001B[38;5;28mself\u001B[39m._FuncPtr = _FuncPtr\n\u001B[32m    375\u001B[39m \u001B[38;5;28;01mif\u001B[39;00m handle \u001B[38;5;129;01mis\u001B[39;00m \u001B[38;5;28;01mNone\u001B[39;00m:\n\u001B[32m--> \u001B[39m\u001B[32m376\u001B[39m     \u001B[38;5;28mself\u001B[39m._handle = \u001B[43m_dlopen\u001B[49m\u001B[43m(\u001B[49m\u001B[38;5;28;43mself\u001B[39;49m\u001B[43m.\u001B[49m\u001B[43m_name\u001B[49m\u001B[43m,\u001B[49m\u001B[43m \u001B[49m\u001B[43mmode\u001B[49m\u001B[43m)\u001B[49m\n\u001B[32m    377\u001B[39m \u001B[38;5;28;01melse\u001B[39;00m:\n\u001B[32m    378\u001B[39m     \u001B[38;5;28mself\u001B[39m._handle = handle\n",
      "\u001B[31mOSError\u001B[39m: [WinError 127] Die angegebene Prozedur wurde nicht gefunden"
     ]
    }
   ],
   "source": [
    "import torchtext"
   ]
  },
  {
   "cell_type": "code",
   "execution_count": 20,
   "id": "4ce3e121-c9ed-47c3-889f-6cdcaf047512",
   "metadata": {
    "ExecuteTime": {
     "end_time": "2025-03-21T10:20:23.822411800Z",
     "start_time": "2025-03-21T10:20:23.467217100Z"
    }
   },
   "outputs": [
    {
     "ename": "OSError",
     "evalue": "[WinError 127] Die angegebene Prozedur wurde nicht gefunden",
     "output_type": "error",
     "traceback": [
      "\u001B[31m---------------------------------------------------------------------------\u001B[39m",
      "\u001B[31mOSError\u001B[39m                                   Traceback (most recent call last)",
      "\u001B[36mCell\u001B[39m\u001B[36m \u001B[39m\u001B[32mIn[20]\u001B[39m\u001B[32m, line 1\u001B[39m\n\u001B[32m----> \u001B[39m\u001B[32m1\u001B[39m \u001B[38;5;28;01mfrom\u001B[39;00m\u001B[38;5;250m \u001B[39m\u001B[34;01mtorchtext\u001B[39;00m\u001B[34;01m.\u001B[39;00m\u001B[34;01mdata\u001B[39;00m\u001B[34;01m.\u001B[39;00m\u001B[34;01mutils\u001B[39;00m\u001B[38;5;250m \u001B[39m\u001B[38;5;28;01mimport\u001B[39;00m get_tokenizer\n",
      "\u001B[36mFile \u001B[39m\u001B[32m~\\venv\\Lib\\site-packages\\torchtext\\__init__.py:6\u001B[39m\n\u001B[32m      3\u001B[39m \u001B[38;5;28;01mfrom\u001B[39;00m\u001B[38;5;250m \u001B[39m\u001B[34;01mtorch\u001B[39;00m\u001B[34;01m.\u001B[39;00m\u001B[34;01mhub\u001B[39;00m\u001B[38;5;250m \u001B[39m\u001B[38;5;28;01mimport\u001B[39;00m _get_torch_home\n\u001B[32m      5\u001B[39m \u001B[38;5;66;03m# the following import has to happen first in order to load the torchtext C++ library\u001B[39;00m\n\u001B[32m----> \u001B[39m\u001B[32m6\u001B[39m \u001B[38;5;28;01mfrom\u001B[39;00m\u001B[38;5;250m \u001B[39m\u001B[34;01mtorchtext\u001B[39;00m\u001B[38;5;250m \u001B[39m\u001B[38;5;28;01mimport\u001B[39;00m _extension  \u001B[38;5;66;03m# noqa: F401\u001B[39;00m\n\u001B[32m      8\u001B[39m _TEXT_BUCKET = \u001B[33m\"\u001B[39m\u001B[33mhttps://download.pytorch.org/models/text/\u001B[39m\u001B[33m\"\u001B[39m\n\u001B[32m     10\u001B[39m _CACHE_DIR = os.path.expanduser(os.path.join(_get_torch_home(), \u001B[33m\"\u001B[39m\u001B[33mtext\u001B[39m\u001B[33m\"\u001B[39m))\n",
      "\u001B[36mFile \u001B[39m\u001B[32m~\\venv\\Lib\\site-packages\\torchtext\\_extension.py:64\u001B[39m\n\u001B[32m     59\u001B[39m     \u001B[38;5;66;03m# This import is for initializing the methods registered via PyBind11\u001B[39;00m\n\u001B[32m     60\u001B[39m     \u001B[38;5;66;03m# This has to happen after the base library is loaded\u001B[39;00m\n\u001B[32m     61\u001B[39m     \u001B[38;5;28;01mfrom\u001B[39;00m\u001B[38;5;250m \u001B[39m\u001B[34;01mtorchtext\u001B[39;00m\u001B[38;5;250m \u001B[39m\u001B[38;5;28;01mimport\u001B[39;00m _torchtext  \u001B[38;5;66;03m# noqa\u001B[39;00m\n\u001B[32m---> \u001B[39m\u001B[32m64\u001B[39m \u001B[43m_init_extension\u001B[49m\u001B[43m(\u001B[49m\u001B[43m)\u001B[49m\n",
      "\u001B[36mFile \u001B[39m\u001B[32m~\\venv\\Lib\\site-packages\\torchtext\\_extension.py:58\u001B[39m, in \u001B[36m_init_extension\u001B[39m\u001B[34m()\u001B[39m\n\u001B[32m     55\u001B[39m \u001B[38;5;28;01mif\u001B[39;00m \u001B[38;5;129;01mnot\u001B[39;00m _mod_utils.is_module_available(\u001B[33m\"\u001B[39m\u001B[33mtorchtext._torchtext\u001B[39m\u001B[33m\"\u001B[39m):\n\u001B[32m     56\u001B[39m     \u001B[38;5;28;01mraise\u001B[39;00m \u001B[38;5;167;01mImportError\u001B[39;00m(\u001B[33m\"\u001B[39m\u001B[33mtorchtext C++ Extension is not found.\u001B[39m\u001B[33m\"\u001B[39m)\n\u001B[32m---> \u001B[39m\u001B[32m58\u001B[39m \u001B[43m_load_lib\u001B[49m\u001B[43m(\u001B[49m\u001B[33;43m\"\u001B[39;49m\u001B[33;43mlibtorchtext\u001B[39;49m\u001B[33;43m\"\u001B[39;49m\u001B[43m)\u001B[49m\n\u001B[32m     59\u001B[39m \u001B[38;5;66;03m# This import is for initializing the methods registered via PyBind11\u001B[39;00m\n\u001B[32m     60\u001B[39m \u001B[38;5;66;03m# This has to happen after the base library is loaded\u001B[39;00m\n\u001B[32m     61\u001B[39m \u001B[38;5;28;01mfrom\u001B[39;00m\u001B[38;5;250m \u001B[39m\u001B[34;01mtorchtext\u001B[39;00m\u001B[38;5;250m \u001B[39m\u001B[38;5;28;01mimport\u001B[39;00m _torchtext\n",
      "\u001B[36mFile \u001B[39m\u001B[32m~\\venv\\Lib\\site-packages\\torchtext\\_extension.py:50\u001B[39m, in \u001B[36m_load_lib\u001B[39m\u001B[34m(lib)\u001B[39m\n\u001B[32m     48\u001B[39m \u001B[38;5;28;01mif\u001B[39;00m \u001B[38;5;129;01mnot\u001B[39;00m path.exists():\n\u001B[32m     49\u001B[39m     \u001B[38;5;28;01mreturn\u001B[39;00m \u001B[38;5;28;01mFalse\u001B[39;00m\n\u001B[32m---> \u001B[39m\u001B[32m50\u001B[39m \u001B[43mtorch\u001B[49m\u001B[43m.\u001B[49m\u001B[43mops\u001B[49m\u001B[43m.\u001B[49m\u001B[43mload_library\u001B[49m\u001B[43m(\u001B[49m\u001B[43mpath\u001B[49m\u001B[43m)\u001B[49m\n\u001B[32m     51\u001B[39m \u001B[38;5;28;01mreturn\u001B[39;00m \u001B[38;5;28;01mTrue\u001B[39;00m\n",
      "\u001B[36mFile \u001B[39m\u001B[32m~\\venv\\Lib\\site-packages\\torch\\_ops.py:1357\u001B[39m, in \u001B[36m_Ops.load_library\u001B[39m\u001B[34m(self, path)\u001B[39m\n\u001B[32m   1352\u001B[39m path = _utils_internal.resolve_library_path(path)\n\u001B[32m   1353\u001B[39m \u001B[38;5;28;01mwith\u001B[39;00m dl_open_guard():\n\u001B[32m   1354\u001B[39m     \u001B[38;5;66;03m# Import the shared library into the process, thus running its\u001B[39;00m\n\u001B[32m   1355\u001B[39m     \u001B[38;5;66;03m# static (global) initialization code in order to register custom\u001B[39;00m\n\u001B[32m   1356\u001B[39m     \u001B[38;5;66;03m# operators with the JIT.\u001B[39;00m\n\u001B[32m-> \u001B[39m\u001B[32m1357\u001B[39m     \u001B[43mctypes\u001B[49m\u001B[43m.\u001B[49m\u001B[43mCDLL\u001B[49m\u001B[43m(\u001B[49m\u001B[43mpath\u001B[49m\u001B[43m)\u001B[49m\n\u001B[32m   1358\u001B[39m \u001B[38;5;28mself\u001B[39m.loaded_libraries.add(path)\n",
      "\u001B[36mFile \u001B[39m\u001B[32m~\\AppData\\Local\\Programs\\Python\\Python311\\Lib\\ctypes\\__init__.py:376\u001B[39m, in \u001B[36mCDLL.__init__\u001B[39m\u001B[34m(self, name, mode, handle, use_errno, use_last_error, winmode)\u001B[39m\n\u001B[32m    373\u001B[39m \u001B[38;5;28mself\u001B[39m._FuncPtr = _FuncPtr\n\u001B[32m    375\u001B[39m \u001B[38;5;28;01mif\u001B[39;00m handle \u001B[38;5;129;01mis\u001B[39;00m \u001B[38;5;28;01mNone\u001B[39;00m:\n\u001B[32m--> \u001B[39m\u001B[32m376\u001B[39m     \u001B[38;5;28mself\u001B[39m._handle = \u001B[43m_dlopen\u001B[49m\u001B[43m(\u001B[49m\u001B[38;5;28;43mself\u001B[39;49m\u001B[43m.\u001B[49m\u001B[43m_name\u001B[49m\u001B[43m,\u001B[49m\u001B[43m \u001B[49m\u001B[43mmode\u001B[49m\u001B[43m)\u001B[49m\n\u001B[32m    377\u001B[39m \u001B[38;5;28;01melse\u001B[39;00m:\n\u001B[32m    378\u001B[39m     \u001B[38;5;28mself\u001B[39m._handle = handle\n",
      "\u001B[31mOSError\u001B[39m: [WinError 127] Die angegebene Prozedur wurde nicht gefunden"
     ]
    }
   ],
   "source": [
    "from torchtext.data.utils import get_tokenizer"
   ]
  },
  {
   "cell_type": "code",
   "execution_count": 21,
   "id": "70869416-bb7c-4101-8a81-c285792a25e9",
   "metadata": {
    "ExecuteTime": {
     "end_time": "2025-03-21T10:20:30.881915300Z",
     "start_time": "2025-03-21T10:20:30.859660800Z"
    }
   },
   "outputs": [],
   "source": [
    "text = \"This is a pytorch tutorial for tokenization!\""
   ]
  },
  {
   "cell_type": "code",
   "execution_count": 22,
   "id": "d7a368b8-7362-4735-b8f7-cced02be87da",
   "metadata": {
    "ExecuteTime": {
     "end_time": "2025-03-21T10:20:32.670820500Z",
     "start_time": "2025-03-21T10:20:32.619704600Z"
    }
   },
   "outputs": [
    {
     "ename": "NameError",
     "evalue": "name 'get_tokenizer' is not defined",
     "output_type": "error",
     "traceback": [
      "\u001B[31m---------------------------------------------------------------------------\u001B[39m",
      "\u001B[31mNameError\u001B[39m                                 Traceback (most recent call last)",
      "\u001B[36mCell\u001B[39m\u001B[36m \u001B[39m\u001B[32mIn[22]\u001B[39m\u001B[32m, line 1\u001B[39m\n\u001B[32m----> \u001B[39m\u001B[32m1\u001B[39m tokenizer = \u001B[43mget_tokenizer\u001B[49m(\u001B[33m\"\u001B[39m\u001B[33mbasic_english\u001B[39m\u001B[33m\"\u001B[39m)\n\u001B[32m      2\u001B[39m \u001B[38;5;28mprint\u001B[39m(tokenizer(\u001B[33m\"\u001B[39m\u001B[33mHello, how are you?\u001B[39m\u001B[33m\"\u001B[39m))\n",
      "\u001B[31mNameError\u001B[39m: name 'get_tokenizer' is not defined"
     ]
    }
   ],
   "source": [
    "tokenizer = get_tokenizer(\"basic_english\")\n",
    "print(tokenizer(\"Hello, how are you?\"))"
   ]
  },
  {
   "cell_type": "code",
   "execution_count": null,
   "id": "be0c3e82-323d-4388-a2d7-0d0560e34567",
   "metadata": {},
   "outputs": [],
   "source": [
    "tokens = tokenizer(\"You can now install TorchText using pip!\")"
   ]
  },
  {
   "cell_type": "code",
   "execution_count": null,
   "id": "d7d5fdaf-0765-4d58-a2e9-40064cfcc46f",
   "metadata": {},
   "outputs": [],
   "source": [
    "tokens[1]."
   ]
  },
  {
   "cell_type": "code",
   "execution_count": 18,
   "id": "33edfc69-9b22-4b6d-92c6-35658968aaeb",
   "metadata": {
    "ExecuteTime": {
     "end_time": "2025-03-21T10:18:19.828772700Z",
     "start_time": "2025-03-21T10:18:19.789898300Z"
    }
   },
   "outputs": [
    {
     "name": "stdout",
     "output_type": "stream",
     "text": [
      "2.6.0+cpu\n",
      "tensor([0.])\n"
     ]
    }
   ],
   "source": [
    "import torch\n",
    "print(torch.__version__)\n",
    "print(torch.zeros(1))"
   ]
  },
  {
   "cell_type": "code",
   "execution_count": 19,
   "outputs": [
    {
     "ename": "OSError",
     "evalue": "[WinError 127] Die angegebene Prozedur wurde nicht gefunden",
     "output_type": "error",
     "traceback": [
      "\u001B[31m---------------------------------------------------------------------------\u001B[39m",
      "\u001B[31mOSError\u001B[39m                                   Traceback (most recent call last)",
      "\u001B[36mCell\u001B[39m\u001B[36m \u001B[39m\u001B[32mIn[19]\u001B[39m\u001B[32m, line 1\u001B[39m\n\u001B[32m----> \u001B[39m\u001B[32m1\u001B[39m \u001B[38;5;28;01mimport\u001B[39;00m\u001B[38;5;250m \u001B[39m\u001B[34;01mtorchtext\u001B[39;00m\n\u001B[32m      2\u001B[39m \u001B[38;5;28mprint\u001B[39m(torchtext.__version__)\n",
      "\u001B[36mFile \u001B[39m\u001B[32m~\\venv\\Lib\\site-packages\\torchtext\\__init__.py:18\u001B[39m\n\u001B[32m     15\u001B[39m     _WARN = \u001B[38;5;28;01mFalse\u001B[39;00m\n\u001B[32m     17\u001B[39m \u001B[38;5;66;03m# the following import has to happen first in order to load the torchtext C++ library\u001B[39;00m\n\u001B[32m---> \u001B[39m\u001B[32m18\u001B[39m \u001B[38;5;28;01mfrom\u001B[39;00m\u001B[38;5;250m \u001B[39m\u001B[34;01mtorchtext\u001B[39;00m\u001B[38;5;250m \u001B[39m\u001B[38;5;28;01mimport\u001B[39;00m _extension  \u001B[38;5;66;03m# noqa: F401\u001B[39;00m\n\u001B[32m     20\u001B[39m _TEXT_BUCKET = \u001B[33m\"\u001B[39m\u001B[33mhttps://download.pytorch.org/models/text/\u001B[39m\u001B[33m\"\u001B[39m\n\u001B[32m     22\u001B[39m _CACHE_DIR = os.path.expanduser(os.path.join(_get_torch_home(), \u001B[33m\"\u001B[39m\u001B[33mtext\u001B[39m\u001B[33m\"\u001B[39m))\n",
      "\u001B[36mFile \u001B[39m\u001B[32m~\\venv\\Lib\\site-packages\\torchtext\\_extension.py:64\u001B[39m\n\u001B[32m     59\u001B[39m     \u001B[38;5;66;03m# This import is for initializing the methods registered via PyBind11\u001B[39;00m\n\u001B[32m     60\u001B[39m     \u001B[38;5;66;03m# This has to happen after the base library is loaded\u001B[39;00m\n\u001B[32m     61\u001B[39m     \u001B[38;5;28;01mfrom\u001B[39;00m\u001B[38;5;250m \u001B[39m\u001B[34;01mtorchtext\u001B[39;00m\u001B[38;5;250m \u001B[39m\u001B[38;5;28;01mimport\u001B[39;00m _torchtext  \u001B[38;5;66;03m# noqa\u001B[39;00m\n\u001B[32m---> \u001B[39m\u001B[32m64\u001B[39m \u001B[43m_init_extension\u001B[49m\u001B[43m(\u001B[49m\u001B[43m)\u001B[49m\n",
      "\u001B[36mFile \u001B[39m\u001B[32m~\\venv\\Lib\\site-packages\\torchtext\\_extension.py:58\u001B[39m, in \u001B[36m_init_extension\u001B[39m\u001B[34m()\u001B[39m\n\u001B[32m     55\u001B[39m \u001B[38;5;28;01mif\u001B[39;00m \u001B[38;5;129;01mnot\u001B[39;00m _mod_utils.is_module_available(\u001B[33m\"\u001B[39m\u001B[33mtorchtext._torchtext\u001B[39m\u001B[33m\"\u001B[39m):\n\u001B[32m     56\u001B[39m     \u001B[38;5;28;01mraise\u001B[39;00m \u001B[38;5;167;01mImportError\u001B[39;00m(\u001B[33m\"\u001B[39m\u001B[33mtorchtext C++ Extension is not found.\u001B[39m\u001B[33m\"\u001B[39m)\n\u001B[32m---> \u001B[39m\u001B[32m58\u001B[39m \u001B[43m_load_lib\u001B[49m\u001B[43m(\u001B[49m\u001B[33;43m\"\u001B[39;49m\u001B[33;43mlibtorchtext\u001B[39;49m\u001B[33;43m\"\u001B[39;49m\u001B[43m)\u001B[49m\n\u001B[32m     59\u001B[39m \u001B[38;5;66;03m# This import is for initializing the methods registered via PyBind11\u001B[39;00m\n\u001B[32m     60\u001B[39m \u001B[38;5;66;03m# This has to happen after the base library is loaded\u001B[39;00m\n\u001B[32m     61\u001B[39m \u001B[38;5;28;01mfrom\u001B[39;00m\u001B[38;5;250m \u001B[39m\u001B[34;01mtorchtext\u001B[39;00m\u001B[38;5;250m \u001B[39m\u001B[38;5;28;01mimport\u001B[39;00m _torchtext\n",
      "\u001B[36mFile \u001B[39m\u001B[32m~\\venv\\Lib\\site-packages\\torchtext\\_extension.py:50\u001B[39m, in \u001B[36m_load_lib\u001B[39m\u001B[34m(lib)\u001B[39m\n\u001B[32m     48\u001B[39m \u001B[38;5;28;01mif\u001B[39;00m \u001B[38;5;129;01mnot\u001B[39;00m path.exists():\n\u001B[32m     49\u001B[39m     \u001B[38;5;28;01mreturn\u001B[39;00m \u001B[38;5;28;01mFalse\u001B[39;00m\n\u001B[32m---> \u001B[39m\u001B[32m50\u001B[39m \u001B[43mtorch\u001B[49m\u001B[43m.\u001B[49m\u001B[43mops\u001B[49m\u001B[43m.\u001B[49m\u001B[43mload_library\u001B[49m\u001B[43m(\u001B[49m\u001B[43mpath\u001B[49m\u001B[43m)\u001B[49m\n\u001B[32m     51\u001B[39m \u001B[38;5;28;01mreturn\u001B[39;00m \u001B[38;5;28;01mTrue\u001B[39;00m\n",
      "\u001B[36mFile \u001B[39m\u001B[32m~\\venv\\Lib\\site-packages\\torch\\_ops.py:1357\u001B[39m, in \u001B[36m_Ops.load_library\u001B[39m\u001B[34m(self, path)\u001B[39m\n\u001B[32m   1352\u001B[39m path = _utils_internal.resolve_library_path(path)\n\u001B[32m   1353\u001B[39m \u001B[38;5;28;01mwith\u001B[39;00m dl_open_guard():\n\u001B[32m   1354\u001B[39m     \u001B[38;5;66;03m# Import the shared library into the process, thus running its\u001B[39;00m\n\u001B[32m   1355\u001B[39m     \u001B[38;5;66;03m# static (global) initialization code in order to register custom\u001B[39;00m\n\u001B[32m   1356\u001B[39m     \u001B[38;5;66;03m# operators with the JIT.\u001B[39;00m\n\u001B[32m-> \u001B[39m\u001B[32m1357\u001B[39m     \u001B[43mctypes\u001B[49m\u001B[43m.\u001B[49m\u001B[43mCDLL\u001B[49m\u001B[43m(\u001B[49m\u001B[43mpath\u001B[49m\u001B[43m)\u001B[49m\n\u001B[32m   1358\u001B[39m \u001B[38;5;28mself\u001B[39m.loaded_libraries.add(path)\n",
      "\u001B[36mFile \u001B[39m\u001B[32m~\\AppData\\Local\\Programs\\Python\\Python311\\Lib\\ctypes\\__init__.py:376\u001B[39m, in \u001B[36mCDLL.__init__\u001B[39m\u001B[34m(self, name, mode, handle, use_errno, use_last_error, winmode)\u001B[39m\n\u001B[32m    373\u001B[39m \u001B[38;5;28mself\u001B[39m._FuncPtr = _FuncPtr\n\u001B[32m    375\u001B[39m \u001B[38;5;28;01mif\u001B[39;00m handle \u001B[38;5;129;01mis\u001B[39;00m \u001B[38;5;28;01mNone\u001B[39;00m:\n\u001B[32m--> \u001B[39m\u001B[32m376\u001B[39m     \u001B[38;5;28mself\u001B[39m._handle = \u001B[43m_dlopen\u001B[49m\u001B[43m(\u001B[49m\u001B[38;5;28;43mself\u001B[39;49m\u001B[43m.\u001B[49m\u001B[43m_name\u001B[49m\u001B[43m,\u001B[49m\u001B[43m \u001B[49m\u001B[43mmode\u001B[49m\u001B[43m)\u001B[49m\n\u001B[32m    377\u001B[39m \u001B[38;5;28;01melse\u001B[39;00m:\n\u001B[32m    378\u001B[39m     \u001B[38;5;28mself\u001B[39m._handle = handle\n",
      "\u001B[31mOSError\u001B[39m: [WinError 127] Die angegebene Prozedur wurde nicht gefunden"
     ]
    }
   ],
   "source": [
    "import torchtext\n",
    "print(torchtext.__version__)"
   ],
   "metadata": {
    "collapsed": false,
    "ExecuteTime": {
     "end_time": "2025-03-21T10:18:40.399486Z",
     "start_time": "2025-03-21T10:18:40.278356400Z"
    }
   },
   "id": "c640132472593039"
  },
  {
   "cell_type": "code",
   "execution_count": null,
   "outputs": [],
   "source": [],
   "metadata": {
    "collapsed": false
   },
   "id": "31c2b585c8a59be2"
  }
 ],
 "metadata": {
  "kernelspec": {
   "display_name": "Python 3 (ipykernel)",
   "language": "python",
   "name": "python3"
  },
  "language_info": {
   "codemirror_mode": {
    "name": "ipython",
    "version": 3
   },
   "file_extension": ".py",
   "mimetype": "text/x-python",
   "name": "python",
   "nbconvert_exporter": "python",
   "pygments_lexer": "ipython3",
   "version": "3.9.6"
  }
 },
 "nbformat": 4,
 "nbformat_minor": 5
}
